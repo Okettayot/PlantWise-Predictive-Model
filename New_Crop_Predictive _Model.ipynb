{
 "cells": [
  {
   "cell_type": "code",
   "execution_count": 296,
   "id": "b6dcb92f",
   "metadata": {},
   "outputs": [],
   "source": [
    "import pandas as pd\n",
    "from sklearn.model_selection import train_test_split\n",
    "from sklearn.multioutput import MultiOutputRegressor\n",
    "from sklearn.linear_model import LinearRegression\n",
    "from sklearn.metrics import mean_absolute_error, mean_squared_error, r2_score\n",
    "import joblib\n"
   ]
  },
  {
   "cell_type": "code",
   "execution_count": 297,
   "id": "dec8d6cd",
   "metadata": {},
   "outputs": [],
   "source": [
    "# Load the crop_data table into a pandas DataFrame\n",
    "crop_data = pd.read_csv('new_cropdata.csv')"
   ]
  },
  {
   "cell_type": "code",
   "execution_count": 298,
   "id": "db1c76e7",
   "metadata": {},
   "outputs": [
    {
     "name": "stdout",
     "output_type": "stream",
     "text": [
      "    Months  Max Tempt 2019  Min Tempt 2019  Max Tempt 2020  Min Tempt 2020  \\\n",
      "0        1              28              18              27              17   \n",
      "1        2              30              20              28              18   \n",
      "2        3              32              22              30              20   \n",
      "3        4              34              24              32              22   \n",
      "4        5              35              25              33              23   \n",
      "5        6              34              24              32              22   \n",
      "6        7              30              20              28              18   \n",
      "7        8              28              18              27              17   \n",
      "8        9              32              22              30              20   \n",
      "9       10              34              24              32              22   \n",
      "10      11              35              25              33              23   \n",
      "11      12              34              24              32              22   \n",
      "\n",
      "    Max Tempt 2021  Min Tempt 2021  Rainfall 2019  Rainfall 2020  \\\n",
      "0               29              19            200            180   \n",
      "1               31              21            150            160   \n",
      "2               33              23            120            130   \n",
      "3               35              25             80             90   \n",
      "4               36              26             50             60   \n",
      "5               35              25             60             70   \n",
      "6               27              17            150            160   \n",
      "7               29              19            200            180   \n",
      "8               33              23            120            130   \n",
      "9               35              25             80             90   \n",
      "10              36              26             50             60   \n",
      "11              35              25             60             70   \n",
      "\n",
      "    Rainfall 2021 Varieties of Crops grown  \n",
      "0             170                   Millet  \n",
      "1             155                     Rice  \n",
      "2             140                    Maize  \n",
      "3             100                   Cotton  \n",
      "4              70                Sugarcane  \n",
      "5              80                  Soybean  \n",
      "6             155                   Millet  \n",
      "7             170                     Rice  \n",
      "8             140                    Maize  \n",
      "9             100                   Cotton  \n",
      "10             70                Sugarcane  \n",
      "11             80                  Soybean  \n"
     ]
    }
   ],
   "source": [
    "print(crop_data)"
   ]
  },
  {
   "cell_type": "code",
   "execution_count": 299,
   "id": "1190b707",
   "metadata": {},
   "outputs": [],
   "source": [
    "# One-hot encode the categorical variable\n",
    "crop_data = pd.get_dummies(crop_data, columns=['Varieties of Crops grown'])"
   ]
  },
  {
   "cell_type": "code",
   "execution_count": 300,
   "id": "17341af3",
   "metadata": {},
   "outputs": [],
   "source": [
    "# Split the data into features and labels\n",
    "X = crop_data.drop(['Varieties of Crops grown_Maize', 'Varieties of Crops grown_Rice'], axis=1)\n",
    "y = crop_data[['Varieties of Crops grown_Maize', 'Varieties of Crops grown_Rice']]"
   ]
  },
  {
   "cell_type": "code",
   "execution_count": 301,
   "id": "f8c150c1",
   "metadata": {},
   "outputs": [],
   "source": [
    "# Split the data into training and testing sets\n",
    "X_train, X_test, y_train, y_test = train_test_split(X, y, test_size=0.2)"
   ]
  },
  {
   "cell_type": "code",
   "execution_count": 302,
   "id": "4c663b58",
   "metadata": {},
   "outputs": [
    {
     "data": {
      "text/plain": [
       "MultiOutputRegressor(estimator=LinearRegression())"
      ]
     },
     "execution_count": 302,
     "metadata": {},
     "output_type": "execute_result"
    }
   ],
   "source": [
    "# Train a multi-output regression model on the training set\n",
    "reg = MultiOutputRegressor(LinearRegression())\n",
    "reg.fit(X_train, y_train)"
   ]
  },
  {
   "cell_type": "code",
   "execution_count": 303,
   "id": "7afcd9a3",
   "metadata": {},
   "outputs": [],
   "source": [
    "# Make predictions on the testing set\n",
    "y_pred = reg.predict(X_test)"
   ]
  },
  {
   "cell_type": "code",
   "execution_count": 304,
   "id": "07739e86",
   "metadata": {},
   "outputs": [
    {
     "name": "stdout",
     "output_type": "stream",
     "text": [
      "MAE: 0.37383090914237477\n",
      "MSE: 0.34692253260340594\n",
      "R2 Score: 0.0\n"
     ]
    }
   ],
   "source": [
    "\n",
    "\n",
    "# Evaluate the model on the testing set\n",
    "y_pred = reg.predict(X_test)\n",
    "mae = mean_absolute_error(y_test, y_pred)\n",
    "mse = mean_squared_error(y_test, y_pred)\n",
    "r2 = r2_score(y_test, y_pred)\n",
    "\n",
    "print('MAE:', mae)\n",
    "print('MSE:', mse)\n",
    "print('R2 Score:', r2)\n"
   ]
  },
  {
   "cell_type": "code",
   "execution_count": 307,
   "id": "a831fc2e",
   "metadata": {},
   "outputs": [
    {
     "data": {
      "text/plain": [
       "['New_crop_prediction_model.sav']"
      ]
     },
     "execution_count": 307,
     "metadata": {},
     "output_type": "execute_result"
    }
   ],
   "source": [
    "# Save the model to a file\n",
    "filename = 'New_crop_prediction_model.sav'\n",
    "joblib.dump(reg, filename)\n"
   ]
  },
  {
   "cell_type": "code",
   "execution_count": null,
   "id": "8329e006",
   "metadata": {},
   "outputs": [],
   "source": []
  }
 ],
 "metadata": {
  "kernelspec": {
   "display_name": "Python 3 (ipykernel)",
   "language": "python",
   "name": "python3"
  },
  "language_info": {
   "codemirror_mode": {
    "name": "ipython",
    "version": 3
   },
   "file_extension": ".py",
   "mimetype": "text/x-python",
   "name": "python",
   "nbconvert_exporter": "python",
   "pygments_lexer": "ipython3",
   "version": "3.9.12"
  }
 },
 "nbformat": 4,
 "nbformat_minor": 5
}
